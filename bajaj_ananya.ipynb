{
  "nbformat": 4,
  "nbformat_minor": 0,
  "metadata": {
    "colab": {
      "provenance": []
    },
    "kernelspec": {
      "name": "python3",
      "display_name": "Python 3"
    },
    "language_info": {
      "name": "python"
    }
  },
  "cells": [
    {
      "cell_type": "code",
      "execution_count": 1,
      "metadata": {
        "id": "ywK_9Rl8VWPe"
      },
      "outputs": [],
      "source": [
        "import pandas as pd"
      ]
    },
    {
      "cell_type": "code",
      "source": [
        "import json"
      ],
      "metadata": {
        "id": "RIUuFKpeZ5A0"
      },
      "execution_count": 2,
      "outputs": []
    },
    {
      "cell_type": "code",
      "source": [
        "# Load the JSON data\n",
        "with open(\"/content/DataEngineeringQ2.json\", \"r\") as file:\n",
        "    data = json.load(file)"
      ],
      "metadata": {
        "id": "Q10bof3laEE2"
      },
      "execution_count": 4,
      "outputs": []
    },
    {
      "cell_type": "code",
      "source": [
        "# ques 4\n",
        "# Extract the patient details\n",
        "patient_details_list = [entry['patientDetails'] for entry in data]\n",
        "\n",
        "# Define a function to calculate the percentage of missing values\n",
        "def calculate_missing_percentage(patient_details_list, columns):\n",
        "    total_count = len(patient_details_list)\n",
        "    missing_percentages = []\n",
        "\n",
        "    for column in columns:\n",
        "        missing_count = sum(1 for details in patient_details_list if details.get(column) in [\"\", None])\n",
        "        missing_percentage = (missing_count / total_count) * 100\n",
        "        missing_percentages.append(round(missing_percentage, 2))\n",
        "\n",
        "    return missing_percentages\n",
        "\n",
        "# Calculate the missing percentages for firstName, lastName, and DOB\n",
        "columns_to_check = ['firstName', 'lastName', 'birthDate']\n",
        "missing_percentages = calculate_missing_percentage(patient_details_list, columns_to_check)\n",
        "\n",
        "missing_percentages\n"
      ],
      "metadata": {
        "colab": {
          "base_uri": "https://localhost:8080/"
        },
        "id": "yMZY319Ob_nH",
        "outputId": "f116fde1-64eb-419d-b243-0d3f175f7d20"
      },
      "execution_count": 13,
      "outputs": [
        {
          "output_type": "execute_result",
          "data": {
            "text/plain": [
              "[0.0, 70.97, 32.26]"
            ]
          },
          "metadata": {},
          "execution_count": 13
        }
      ]
    },
    {
      "cell_type": "code",
      "source": [
        "# ques 5\n",
        "from collections import Counter\n",
        "\n",
        "# Extract gender details\n",
        "genders = [record[\"patientDetails\"].get(\"gender\") for record in data]\n",
        "\n",
        "# Calculate the mode of the gender column\n",
        "gender_counter = Counter(gender for gender in genders if gender)\n",
        "mode_gender = gender_counter.most_common(1)[0][0]\n",
        "\n",
        "# Impute missing values with the mode\n",
        "imputed_genders = [gender if gender else mode_gender for gender in genders]\n",
        "\n",
        "# Calculate the percentage of females\n",
        "total_records = len(imputed_genders)\n",
        "female_count = imputed_genders.count(\"female\")\n",
        "female_percentage = (female_count / total_records) * 100\n",
        "\n",
        "# Round off to 2 decimal places\n",
        "female_percentage = round(female_percentage, 2)\n",
        "\n",
        "print(female_percentage)\n"
      ],
      "metadata": {
        "colab": {
          "base_uri": "https://localhost:8080/"
        },
        "id": "F-jotpALc3VO",
        "outputId": "70e26030-6c39-429b-f3d4-67921d2e5e01"
      },
      "execution_count": 12,
      "outputs": [
        {
          "output_type": "stream",
          "name": "stdout",
          "text": [
            "0.0\n"
          ]
        }
      ]
    },
    {
      "cell_type": "code",
      "source": [
        "#ques 8\n",
        "from collections import Counter\n",
        "\n",
        "# Extract medicine names\n",
        "medicine_names = [med['medicineName'] for med in medicines]\n",
        "\n",
        "# Count the frequency of each medicine name\n",
        "medicine_count = Counter(medicine_names)\n",
        "\n",
        "# Find the 3rd most common medicine name\n",
        "third_most_common = medicine_count.most_common(3)[2][0]\n",
        "third_most_common"
      ],
      "metadata": {
        "colab": {
          "base_uri": "https://localhost:8080/",
          "height": 36
        },
        "id": "0scmFcydcsor",
        "outputId": "c2eaabb6-2510-42b2-efeb-130511966d91"
      },
      "execution_count": 10,
      "outputs": [
        {
          "output_type": "execute_result",
          "data": {
            "text/plain": [
              "'C'"
            ],
            "application/vnd.google.colaboratory.intrinsic+json": {
              "type": "string"
            }
          },
          "metadata": {},
          "execution_count": 10
        }
      ]
    },
    {
      "cell_type": "code",
      "source": [
        "#ques 9\n",
        "# Extract medicines and their active status\n",
        "medicines = []\n",
        "for record in data:\n",
        "    consultation_data = record.get('consultationData', {})\n",
        "    medicines.extend(consultation_data.get('medicines', []))\n",
        "\n",
        "# Count active and inactive medicines\n",
        "active_count = sum(1 for med in medicines if med['isActive'])\n",
        "inactive_count = sum(1 for med in medicines if not med['isActive'])\n",
        "\n",
        "# Calculate percentages\n",
        "total_medicines = active_count + inactive_count\n",
        "active_percentage = (active_count / total_medicines) * 100\n",
        "inactive_percentage = (inactive_count / total_medicines) * 100\n",
        "\n",
        "active_percentage, inactive_percentage, total_medicines\n"
      ],
      "metadata": {
        "colab": {
          "base_uri": "https://localhost:8080/"
        },
        "id": "8gskVHo8cCPU",
        "outputId": "72273ba0-d19f-4df5-88b9-71a2884fe884"
      },
      "execution_count": 9,
      "outputs": [
        {
          "output_type": "execute_result",
          "data": {
            "text/plain": [
              "(69.6969696969697, 30.303030303030305, 66)"
            ]
          },
          "metadata": {},
          "execution_count": 9
        }
      ]
    },
    {
      "cell_type": "code",
      "source": [],
      "metadata": {
        "id": "YcnsaLyHdNV1"
      },
      "execution_count": null,
      "outputs": []
    }
  ]
}